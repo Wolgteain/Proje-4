{
  "nbformat": 4,
  "nbformat_minor": 0,
  "metadata": {
    "colab": {
      "provenance": [],
      "authorship_tag": "ABX9TyMHnLrce+knwj2a9bjwhIbX",
      "include_colab_link": true
    },
    "kernelspec": {
      "name": "python3",
      "display_name": "Python 3"
    },
    "language_info": {
      "name": "python"
    }
  },
  "cells": [
    {
      "cell_type": "markdown",
      "metadata": {
        "id": "view-in-github",
        "colab_type": "text"
      },
      "source": [
        "<a href=\"https://colab.research.google.com/github/Wolgteain/Proje-4/blob/main/Proje4.ipynb\" target=\"_parent\"><img src=\"https://colab.research.google.com/assets/colab-badge.svg\" alt=\"Open In Colab\"/></a>"
      ]
    },
    {
      "cell_type": "code",
      "execution_count": 2,
      "metadata": {
        "colab": {
          "base_uri": "https://localhost:8080/"
        },
        "id": "MksR86uszkqY",
        "outputId": "6b445a9c-e683-4b98-fa8e-c14649f18f8c"
      },
      "outputs": [
        {
          "output_type": "stream",
          "name": "stdout",
          "text": [
            "Requirement already satisfied: scikit-learn in /usr/local/lib/python3.10/dist-packages (1.5.2)\n",
            "Requirement already satisfied: numpy>=1.19.5 in /usr/local/lib/python3.10/dist-packages (from scikit-learn) (1.26.4)\n",
            "Requirement already satisfied: scipy>=1.6.0 in /usr/local/lib/python3.10/dist-packages (from scikit-learn) (1.13.1)\n",
            "Requirement already satisfied: joblib>=1.2.0 in /usr/local/lib/python3.10/dist-packages (from scikit-learn) (1.4.2)\n",
            "Requirement already satisfied: threadpoolctl>=3.1.0 in /usr/local/lib/python3.10/dist-packages (from scikit-learn) (3.5.0)\n"
          ]
        }
      ],
      "source": [
        "pip install scikit-learn"
      ]
    },
    {
      "cell_type": "code",
      "source": [
        "import numpy as np\n",
        "from sklearn.feature_extraction.text import CountVectorizer\n",
        "from sklearn.naive_bayes import MultinomialNB\n",
        "\n",
        "\n",
        "metinler = [\n",
        "    \"Hükümet yeni yasalar çıkarıyor ve seçimler yaklaşıyor.\",\n",
        "    \"Yapay zeka ve makine öğrenimi teknolojileri hızla gelişiyor.\",  # Teknoloji\n",
        "    \"Futbol takımları bu hafta sonu önemli bir maça çıkacak.\",  # Spor\n",
        "    \"Sağlıklı beslenme ve egzersiz yapmak önemlidir.\",  # Sağlık\n",
        "    \"Yeni bir film vizyona girdi ve izleyicilerden olumlu yorumlar aldı.\"  # Eğlence\n",
        "]\n",
        "\n",
        "konular = [\n",
        "    \"Siyaset\",\n",
        "    \"Teknoloji\",\n",
        "    \"Spor\",\n",
        "    \"Sağlık\",\n",
        "    \"Eğlence\"\n",
        "]\n",
        "\n",
        "\n",
        "vectorizer = CountVectorizer()\n",
        "X = vectorizer.fit_transform(metinler)\n",
        "y = np.array(konular)\n",
        "\n",
        "\n",
        "model = MultinomialNB()\n",
        "model.fit(X, y)\n",
        "\n",
        "def konu_tespiti(metin):\n",
        "\n",
        "    metin_vetor = vectorizer.transform([metin])\n",
        "\n",
        "\n",
        "    tahmin = model.predict(metin_vetor)\n",
        "\n",
        "\n",
        "    return tahmin[0]\n",
        "\n",
        "\n",
        "girdi = input(\"Lütfen bir metin girin: \")\n",
        "sonuc = konu_tespiti(girdi)\n",
        "\n",
        "\n",
        "if sonuc not in konular:\n",
        "    sonuc = \"Diğer konular\"\n",
        "\n",
        "print(f\"Girilen metin '{sonuc}' konusu ile ilişkilendirilmektedir.\")"
      ],
      "metadata": {
        "colab": {
          "base_uri": "https://localhost:8080/"
        },
        "id": "t-PpD5cazodi",
        "outputId": "8e7a2369-e8f2-4a17-93b9-beedd68cf9b8"
      },
      "execution_count": 5,
      "outputs": [
        {
          "output_type": "stream",
          "name": "stdout",
          "text": [
            "Lütfen bir metin girin: yapay zeka\n",
            "Girilen metin 'Teknoloji' konusu ile ilişkilendirilmektedir.\n"
          ]
        }
      ]
    }
  ]
}